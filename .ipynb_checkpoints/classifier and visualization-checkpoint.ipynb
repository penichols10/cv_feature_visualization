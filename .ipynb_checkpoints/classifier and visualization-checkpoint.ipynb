{
 "cells": [
  {
   "cell_type": "code",
   "execution_count": 1,
   "id": "f0593e2b-80c4-44c1-823d-43b6142c01d2",
   "metadata": {},
   "outputs": [],
   "source": [
    "import tensorflow as tf\n",
    "import numpy as np\n",
    "import seaborn as sns\n",
    "import matplotlib.pyplot as plt"
   ]
  },
  {
   "cell_type": "markdown",
   "id": "075f9614-5878-423b-b589-eeed2801a961",
   "metadata": {},
   "source": [
    "# Load the Data"
   ]
  },
  {
   "cell_type": "code",
   "execution_count": 2,
   "id": "5ed93811-558a-4624-9d02-11a493a6be80",
   "metadata": {},
   "outputs": [],
   "source": [
    "from sklearn.datasets import load_files\n",
    "\n",
    "test_dir = 'C:/users/Patrick/Documents/python/fruits360/fruits-360_dataset/fruits-360/Test'\n",
    "train_dir = 'C:/users/Patrick/Documents/python/fruits360/fruits-360_dataset/fruits-360/Training'\n",
    "\n",
    "      \n",
    "def load_data(str_dir):\n",
    "      dataset = load_files(str_dir) # Note this function automatically shuffles the data\n",
    "      data = np.array(dataset['filenames'])\n",
    "      target_names = np.array(dataset['target_names'])\n",
    "      targets = np.array(dataset['target'])\n",
    "      return data, targets, target_names\n",
    "      \n",
    "xtrain, ytrain, target_labels = load_data(train_dir)\n",
    "xtest, ytest, _ = load_data(test_dir)"
   ]
  },
  {
   "cell_type": "code",
   "execution_count": 3,
   "id": "f8b97b40-b777-4cda-aecc-7174a48efe89",
   "metadata": {},
   "outputs": [
    {
     "name": "stdout",
     "output_type": "stream",
     "text": [
      "Train shape: (67692,)\n",
      "Test shape: (22688,)\n",
      "Number of classes: 131\n"
     ]
    }
   ],
   "source": [
    "num_classes = len(set(ytrain))\n",
    "\n",
    "print(f'Train shape: {xtrain.shape}')\n",
    "print(f'Test shape: {xtest.shape}')\n",
    "print(f'Number of classes: {num_classes}')"
   ]
  },
  {
   "cell_type": "code",
   "execution_count": 4,
   "id": "9a5c4ea1-086a-4853-a40d-67b533c1c9df",
   "metadata": {},
   "outputs": [
    {
     "name": "stdout",
     "output_type": "stream",
     "text": [
      "(11344, 131)\n"
     ]
    },
    {
     "data": {
      "text/plain": [
       "array([0., 0., 0., 0., 0., 0., 0., 0., 0., 0., 0., 0., 0., 0., 0., 0., 0.,\n",
       "       0., 0., 0., 0., 0., 0., 0., 0., 0., 0., 1., 0., 0., 0., 0., 0., 0.,\n",
       "       0., 0., 0., 0., 0., 0., 0., 0., 0., 0., 0., 0., 0., 0., 0., 0., 0.,\n",
       "       0., 0., 0., 0., 0., 0., 0., 0., 0., 0., 0., 0., 0., 0., 0., 0., 0.,\n",
       "       0., 0., 0., 0., 0., 0., 0., 0., 0., 0., 0., 0., 0., 0., 0., 0., 0.,\n",
       "       0., 0., 0., 0., 0., 0., 0., 0., 0., 0., 0., 0., 0., 0., 0., 0., 0.,\n",
       "       0., 0., 0., 0., 0., 0., 0., 0., 0., 0., 0., 0., 0., 0., 0., 0., 0.,\n",
       "       0., 0., 0., 0., 0., 0., 0., 0., 0., 0., 0., 0.], dtype=float32)"
      ]
     },
     "execution_count": 4,
     "metadata": {},
     "output_type": "execute_result"
    }
   ],
   "source": [
    "len_train = int(len(xtrain)/2)\n",
    "len_test = int(len(xtest)/2)\n",
    "\n",
    "xtrain = xtrain[:len_train]\n",
    "xtest = xtest[:len_test]\n",
    "\n",
    "# One-hot encode the labels\n",
    "ytrain = tf.keras.utils.to_categorical(ytrain[:len_train])\n",
    "ytest = tf.keras.utils.to_categorical(ytest[:len_test])\n",
    "\n",
    "print(ytest.shape) # confirm the one hot encoding was successful\n",
    "ytrain[0]"
   ]
  },
  {
   "cell_type": "code",
   "execution_count": 5,
   "id": "25d18c0a-66ea-4d8d-b0ff-127011d0625e",
   "metadata": {},
   "outputs": [
    {
     "name": "stdout",
     "output_type": "stream",
     "text": [
      "xtest size: (5672,)\n",
      "xvalid size: (5672,) \n",
      "\n",
      "ytest size: (5672, 131)\n",
      "yvalid size: (5672, 131)\n"
     ]
    }
   ],
   "source": [
    "# Create testing and validation sets\n",
    "xtest, xvalid = xtest[int(xtest.shape[0]/2):], xtest[:int(xtest.shape[0]/2)]\n",
    "ytest, yvalid = ytest[int(ytest.shape[0]/2):], ytest[:int(ytest.shape[0]/2)]\n",
    "print(f'xtest size: {xtest.shape}')\n",
    "print(f'xvalid size: {xvalid.shape} \\n')\n",
    "print(f'ytest size: {ytest.shape}')\n",
    "print(f'yvalid size: {yvalid.shape}')"
   ]
  },
  {
   "cell_type": "markdown",
   "id": "ee07bddd-0c10-4d69-88fb-e5be93abe067",
   "metadata": {},
   "source": [
    "# Convert files to arrays\n",
    "\n",
    "We have loaded them in as just file names. We also normalize the data at this step.\n",
    "\n",
    "Note each image is 100 x 100 x 3 where 3 is the number of color channels."
   ]
  },
  {
   "cell_type": "code",
   "execution_count": 6,
   "id": "f89af24f-2e58-4eda-beb2-b43a5de2b1e5",
   "metadata": {},
   "outputs": [
    {
     "name": "stdout",
     "output_type": "stream",
     "text": [
      "Training data shape: (33846, 100, 100, 3)\n",
      "Test data shape: (5672, 100, 100, 3)\n",
      "Validation data shape: (5672, 100, 100, 3)\n"
     ]
    }
   ],
   "source": [
    "from keras.preprocessing.image import array_to_img, img_to_array, load_img\n",
    "\n",
    "def image_loader(data):\n",
    "    images = []\n",
    "    for file in data:\n",
    "        images.append(img_to_array(load_img(file)))\n",
    "    return images\n",
    "\n",
    "xtrain = np.array(image_loader(xtrain))\n",
    "xtest = np.array(image_loader(xtest))\n",
    "xvalid = np.array(image_loader(xvalid))\n",
    "\n",
    "print(f'Training data shape: {xtrain.shape}')\n",
    "print(f'Test data shape: {xtest.shape}')\n",
    "print(f'Validation data shape: {xvalid.shape}')"
   ]
  },
  {
   "cell_type": "code",
   "execution_count": 7,
   "id": "60d4e201-5b10-4b99-9c20-125e2930a85d",
   "metadata": {},
   "outputs": [],
   "source": [
    "xtrain = xtrain/255\n",
    "xtest = xtest/255\n",
    "xvalid = xvalid/255"
   ]
  },
  {
   "cell_type": "markdown",
   "id": "8d89e574-c2c5-4344-bf7c-caf3fcbb68ae",
   "metadata": {},
   "source": [
    "# Build the CNN"
   ]
  },
  {
   "cell_type": "code",
   "execution_count": 8,
   "id": "c286b650-0133-464d-a8e0-554e001255d1",
   "metadata": {},
   "outputs": [
    {
     "name": "stdout",
     "output_type": "stream",
     "text": [
      "Model: \"sequential\"\n",
      "_________________________________________________________________\n",
      " Layer (type)                Output Shape              Param #   \n",
      "=================================================================\n",
      " conv2d (Conv2D)             (None, 100, 100, 16)      208       \n",
      "                                                                 \n",
      " max_pooling2d (MaxPooling2D  (None, 50, 50, 16)       0         \n",
      " )                                                               \n",
      "                                                                 \n",
      " conv2d_1 (Conv2D)           (None, 50, 50, 32)        2080      \n",
      "                                                                 \n",
      " max_pooling2d_1 (MaxPooling  (None, 25, 25, 32)       0         \n",
      " 2D)                                                             \n",
      "                                                                 \n",
      " conv2d_2 (Conv2D)           (None, 25, 25, 64)        8256      \n",
      "                                                                 \n",
      " max_pooling2d_2 (MaxPooling  (None, 12, 12, 64)       0         \n",
      " 2D)                                                             \n",
      "                                                                 \n",
      " conv2d_3 (Conv2D)           (None, 12, 12, 128)       32896     \n",
      "                                                                 \n",
      " max_pooling2d_3 (MaxPooling  (None, 6, 6, 128)        0         \n",
      " 2D)                                                             \n",
      "                                                                 \n",
      " dropout (Dropout)           (None, 6, 6, 128)         0         \n",
      "                                                                 \n",
      " flatten (Flatten)           (None, 4608)              0         \n",
      "                                                                 \n",
      " dense (Dense)               (None, 150)               691350    \n",
      "                                                                 \n",
      " dropout_1 (Dropout)         (None, 150)               0         \n",
      "                                                                 \n",
      " dense_1 (Dense)             (None, 131)               19781     \n",
      "                                                                 \n",
      "=================================================================\n",
      "Total params: 754,571\n",
      "Trainable params: 754,571\n",
      "Non-trainable params: 0\n",
      "_________________________________________________________________\n"
     ]
    }
   ],
   "source": [
    "from tensorflow import keras\n",
    "\n",
    "model= keras.models.Sequential()\n",
    "\n",
    "# First Convolution\n",
    "model.add(keras.layers.Conv2D(filters = 16, kernel_size=2, input_shape=(100,100,3), padding='same', activation='ReLU'))\n",
    "model.add(keras.layers.MaxPooling2D(pool_size=2))\n",
    "\n",
    "# Second Convolution\n",
    "model.add(keras.layers.Conv2D(filters = 32, kernel_size=2, activation='ReLU', padding='same'))\n",
    "model.add(keras.layers.MaxPooling2D(pool_size=2))\n",
    "\n",
    "# Third Convolution\n",
    "model.add(keras.layers.Conv2D(filters=64, kernel_size=2, activation='ReLU', padding='same'))\n",
    "model.add(keras.layers.MaxPooling2D(pool_size=2))\n",
    "\n",
    "# Fourth Convolution\n",
    "model.add(keras.layers.Conv2D(filters=128, kernel_size=2, activation='ReLU', padding='same'))\n",
    "model.add(keras.layers.MaxPooling2D(pool_size=2))\n",
    "\n",
    "# Normalization\n",
    "model.add(keras.layers.Dropout(0.3))\n",
    "\n",
    "# Classifier\n",
    "model.add(keras.layers.Flatten())\n",
    "model.add(keras.layers.Dense(150, activation = 'ReLU'))\n",
    "model.add(keras.layers.Dropout(0.5))\n",
    "model.add(keras.layers.Dense(num_classes, activation='softmax'))\n",
    "\n",
    "model.summary()"
   ]
  },
  {
   "cell_type": "markdown",
   "id": "5c1e20ce-b995-4e1a-939f-8250bc5cb54a",
   "metadata": {},
   "source": [
    "## Compile CNN"
   ]
  },
  {
   "cell_type": "code",
   "execution_count": 9,
   "id": "3ef87079-54fc-4c90-9290-7c455b2e0772",
   "metadata": {},
   "outputs": [],
   "source": [
    "model.compile(loss = 'categorical_crossentropy',\n",
    "             optimizer = 'rmsprop',\n",
    "             metrics = 'accuracy')"
   ]
  },
  {
   "cell_type": "markdown",
   "id": "72c47b0c-d6da-4df0-8c4b-18d12c7e5098",
   "metadata": {},
   "source": [
    "## Train Model"
   ]
  },
  {
   "cell_type": "code",
   "execution_count": 10,
   "id": "5cd22931-468a-46e7-b770-568f6f22dff7",
   "metadata": {},
   "outputs": [
    {
     "name": "stdout",
     "output_type": "stream",
     "text": [
      "Epoch 1/30\n",
      "\n",
      "Epoch 00001: val_loss improved from inf to 0.60169, saving model to fruit_classifier.hdf5\n",
      "1058/1058 - 11s - loss: 2.1489 - accuracy: 0.4358 - val_loss: 0.6017 - val_accuracy: 0.8392 - 11s/epoch - 11ms/step\n",
      "Epoch 2/30\n",
      "\n",
      "Epoch 00002: val_loss improved from 0.60169 to 0.34539, saving model to fruit_classifier.hdf5\n",
      "1058/1058 - 8s - loss: 0.5599 - accuracy: 0.8177 - val_loss: 0.3454 - val_accuracy: 0.8983 - 8s/epoch - 8ms/step\n",
      "Epoch 3/30\n",
      "\n",
      "Epoch 00003: val_loss improved from 0.34539 to 0.22959, saving model to fruit_classifier.hdf5\n",
      "1058/1058 - 8s - loss: 0.3196 - accuracy: 0.8939 - val_loss: 0.2296 - val_accuracy: 0.9431 - 8s/epoch - 8ms/step\n",
      "Epoch 4/30\n",
      "\n",
      "Epoch 00004: val_loss improved from 0.22959 to 0.20075, saving model to fruit_classifier.hdf5\n",
      "1058/1058 - 8s - loss: 0.2230 - accuracy: 0.9272 - val_loss: 0.2008 - val_accuracy: 0.9554 - 8s/epoch - 8ms/step\n",
      "Epoch 5/30\n",
      "\n",
      "Epoch 00005: val_loss did not improve from 0.20075\n",
      "1058/1058 - 8s - loss: 0.1834 - accuracy: 0.9403 - val_loss: 0.2250 - val_accuracy: 0.9517 - 8s/epoch - 8ms/step\n",
      "Epoch 6/30\n",
      "\n",
      "Epoch 00006: val_loss improved from 0.20075 to 0.15128, saving model to fruit_classifier.hdf5\n",
      "1058/1058 - 8s - loss: 0.1588 - accuracy: 0.9498 - val_loss: 0.1513 - val_accuracy: 0.9723 - 8s/epoch - 8ms/step\n",
      "Epoch 7/30\n",
      "\n",
      "Epoch 00007: val_loss did not improve from 0.15128\n",
      "1058/1058 - 8s - loss: 0.1416 - accuracy: 0.9549 - val_loss: 0.1865 - val_accuracy: 0.9697 - 8s/epoch - 8ms/step\n",
      "Epoch 8/30\n",
      "\n",
      "Epoch 00008: val_loss did not improve from 0.15128\n",
      "1058/1058 - 8s - loss: 0.1374 - accuracy: 0.9589 - val_loss: 0.1708 - val_accuracy: 0.9637 - 8s/epoch - 8ms/step\n",
      "Epoch 9/30\n",
      "\n",
      "Epoch 00009: val_loss did not improve from 0.15128\n",
      "1058/1058 - 8s - loss: 0.1319 - accuracy: 0.9603 - val_loss: 0.1587 - val_accuracy: 0.9757 - 8s/epoch - 8ms/step\n",
      "Epoch 10/30\n",
      "\n",
      "Epoch 00010: val_loss did not improve from 0.15128\n",
      "1058/1058 - 8s - loss: 0.1289 - accuracy: 0.9623 - val_loss: 0.2160 - val_accuracy: 0.9695 - 8s/epoch - 8ms/step\n",
      "Epoch 11/30\n",
      "\n",
      "Epoch 00011: val_loss did not improve from 0.15128\n",
      "1058/1058 - 8s - loss: 0.1350 - accuracy: 0.9620 - val_loss: 0.1569 - val_accuracy: 0.9709 - 8s/epoch - 8ms/step\n",
      "Epoch 12/30\n",
      "\n",
      "Epoch 00012: val_loss did not improve from 0.15128\n",
      "1058/1058 - 8s - loss: 0.1290 - accuracy: 0.9649 - val_loss: 0.1751 - val_accuracy: 0.9795 - 8s/epoch - 8ms/step\n",
      "Epoch 13/30\n",
      "\n",
      "Epoch 00013: val_loss did not improve from 0.15128\n",
      "1058/1058 - 8s - loss: 0.1402 - accuracy: 0.9632 - val_loss: 0.2154 - val_accuracy: 0.9713 - 8s/epoch - 8ms/step\n",
      "Epoch 14/30\n",
      "\n",
      "Epoch 00014: val_loss improved from 0.15128 to 0.14375, saving model to fruit_classifier.hdf5\n",
      "1058/1058 - 8s - loss: 0.1548 - accuracy: 0.9594 - val_loss: 0.1437 - val_accuracy: 0.9774 - 8s/epoch - 8ms/step\n",
      "Epoch 15/30\n",
      "\n",
      "Epoch 00015: val_loss did not improve from 0.14375\n",
      "1058/1058 - 8s - loss: 0.1530 - accuracy: 0.9610 - val_loss: 0.1968 - val_accuracy: 0.9540 - 8s/epoch - 8ms/step\n",
      "Epoch 16/30\n",
      "\n",
      "Epoch 00016: val_loss improved from 0.14375 to 0.11387, saving model to fruit_classifier.hdf5\n",
      "1058/1058 - 8s - loss: 0.1631 - accuracy: 0.9610 - val_loss: 0.1139 - val_accuracy: 0.9769 - 8s/epoch - 8ms/step\n",
      "Epoch 17/30\n",
      "\n",
      "Epoch 00017: val_loss did not improve from 0.11387\n",
      "1058/1058 - 8s - loss: 0.1613 - accuracy: 0.9616 - val_loss: 0.1676 - val_accuracy: 0.9730 - 8s/epoch - 8ms/step\n",
      "Epoch 18/30\n",
      "\n",
      "Epoch 00018: val_loss did not improve from 0.11387\n",
      "1058/1058 - 8s - loss: 0.1638 - accuracy: 0.9619 - val_loss: 0.2010 - val_accuracy: 0.9688 - 8s/epoch - 8ms/step\n",
      "Epoch 19/30\n",
      "\n",
      "Epoch 00019: val_loss did not improve from 0.11387\n",
      "1058/1058 - 8s - loss: 0.1742 - accuracy: 0.9603 - val_loss: 0.2632 - val_accuracy: 0.9566 - 8s/epoch - 8ms/step\n",
      "Epoch 20/30\n",
      "\n",
      "Epoch 00020: val_loss did not improve from 0.11387\n",
      "1058/1058 - 8s - loss: 0.1831 - accuracy: 0.9608 - val_loss: 0.2276 - val_accuracy: 0.9702 - 8s/epoch - 8ms/step\n",
      "Epoch 21/30\n",
      "\n",
      "Epoch 00021: val_loss improved from 0.11387 to 0.09342, saving model to fruit_classifier.hdf5\n",
      "1058/1058 - 8s - loss: 0.1929 - accuracy: 0.9600 - val_loss: 0.0934 - val_accuracy: 0.9799 - 8s/epoch - 8ms/step\n",
      "Epoch 22/30\n",
      "\n",
      "Epoch 00022: val_loss did not improve from 0.09342\n",
      "1058/1058 - 8s - loss: 0.1886 - accuracy: 0.9612 - val_loss: 0.1809 - val_accuracy: 0.9780 - 8s/epoch - 8ms/step\n",
      "Epoch 23/30\n",
      "\n",
      "Epoch 00023: val_loss did not improve from 0.09342\n",
      "1058/1058 - 8s - loss: 0.1980 - accuracy: 0.9592 - val_loss: 0.1852 - val_accuracy: 0.9762 - 8s/epoch - 8ms/step\n",
      "Epoch 24/30\n",
      "\n",
      "Epoch 00024: val_loss did not improve from 0.09342\n",
      "1058/1058 - 8s - loss: 0.2014 - accuracy: 0.9592 - val_loss: 0.1479 - val_accuracy: 0.9788 - 8s/epoch - 8ms/step\n",
      "Epoch 25/30\n",
      "\n",
      "Epoch 00025: val_loss did not improve from 0.09342\n",
      "1058/1058 - 8s - loss: 0.2077 - accuracy: 0.9583 - val_loss: 0.2148 - val_accuracy: 0.9635 - 8s/epoch - 8ms/step\n",
      "Epoch 26/30\n",
      "\n",
      "Epoch 00026: val_loss did not improve from 0.09342\n",
      "1058/1058 - 8s - loss: 0.2353 - accuracy: 0.9569 - val_loss: 0.1306 - val_accuracy: 0.9771 - 8s/epoch - 8ms/step\n",
      "Epoch 27/30\n",
      "\n",
      "Epoch 00027: val_loss did not improve from 0.09342\n",
      "1058/1058 - 8s - loss: 0.2302 - accuracy: 0.9556 - val_loss: 0.2633 - val_accuracy: 0.9785 - 8s/epoch - 8ms/step\n",
      "Epoch 28/30\n",
      "\n",
      "Epoch 00028: val_loss did not improve from 0.09342\n",
      "1058/1058 - 8s - loss: 0.2670 - accuracy: 0.9538 - val_loss: 0.1368 - val_accuracy: 0.9702 - 8s/epoch - 8ms/step\n",
      "Epoch 29/30\n",
      "\n",
      "Epoch 00029: val_loss did not improve from 0.09342\n",
      "1058/1058 - 8s - loss: 0.2488 - accuracy: 0.9578 - val_loss: 0.2338 - val_accuracy: 0.9788 - 8s/epoch - 8ms/step\n",
      "Epoch 30/30\n",
      "\n",
      "Epoch 00030: val_loss did not improve from 0.09342\n",
      "1058/1058 - 8s - loss: 0.2684 - accuracy: 0.9553 - val_loss: 0.1877 - val_accuracy: 0.9813 - 8s/epoch - 8ms/step\n"
     ]
    }
   ],
   "source": [
    "#gpu_options = tf.compat.v1.GPUOptions(per_process_gpu_memory_fraction=0.333) \n",
    "#sess = tf.compat.v1.Session(config=tf.compat.v1.ConfigProto(log_device_placement=True, gpu_options=gpu_options))\n",
    "batch_size = 32\n",
    "\n",
    "checkpoint = keras.callbacks.ModelCheckpoint('fruit_classifier.hdf5', verbose = 1, save_best_only=True)\n",
    "\n",
    "history = model.fit(xtrain, ytrain,\n",
    "                   batch_size=batch_size,\n",
    "                   epochs=30,\n",
    "                   validation_data = (xvalid, yvalid),\n",
    "                   callbacks = [checkpoint],\n",
    "                   verbose=2,\n",
    "                   shuffle=True)"
   ]
  },
  {
   "cell_type": "code",
   "execution_count": 11,
   "id": "4675c47f-dc6e-46be-8ff5-734bf85eb0a8",
   "metadata": {},
   "outputs": [
    {
     "name": "stdout",
     "output_type": "stream",
     "text": [
      "\n",
      " Test accuracy: 0.9827221632003784\n"
     ]
    }
   ],
   "source": [
    "score = model.evaluate(xtest, ytest, verbose=0)\n",
    "print('\\n', 'Test accuracy:', score[1])"
   ]
  },
  {
   "cell_type": "code",
   "execution_count": 12,
   "id": "bf9817c1-c611-44a2-988a-8fe30e1ef8c9",
   "metadata": {},
   "outputs": [
    {
     "data": {
      "text/plain": [
       "<Figure size 432x288 with 0 Axes>"
      ]
     },
     "execution_count": 12,
     "metadata": {},
     "output_type": "execute_result"
    },
    {
     "data": {
      "image/png": "[encoded data removed]",
      "text/plain": [
       "<Figure size 432x288 with 1 Axes>"
      ]
     },
     "metadata": {
      "needs_background": "light"
     },
     "output_type": "display_data"
    },
    {
     "data": {
      "image/png": "[encoded data removed]",
      "text/plain": [
       "<Figure size 432x288 with 1 Axes>"
      ]
     },
     "metadata": {
      "needs_background": "light"
     },
     "output_type": "display_data"
    },
    {
     "data": {
      "text/plain": [
       "<Figure size 432x288 with 0 Axes>"
      ]
     },
     "metadata": {},
     "output_type": "display_data"
    }
   ],
   "source": [
    "train_loss = history.history['loss'][1:]\n",
    "val_loss = history.history['val_loss'][1:]\n",
    "\n",
    "train_accuracy = history.history['accuracy'][1:]\n",
    "val_accuracy = history.history['val_accuracy'][1:]\n",
    "\n",
    "epochs = range(len(train_loss))\n",
    "\n",
    "plt.plot(epochs, train_loss)\n",
    "plt.plot(epochs, val_loss, c='red')\n",
    "plt.figure()\n",
    "\n",
    "plt.plot(epochs, train_accuracy)\n",
    "plt.plot(epochs, val_accuracy, c='red')\n",
    "plt.figure()"
   ]
  },
  {
   "cell_type": "markdown",
   "id": "416d7c0c-266f-4b1e-840e-9a467d3d4f7d",
   "metadata": {},
   "source": [
    "# Visualize some filters"
   ]
  },
  {
   "cell_type": "code",
   "execution_count": 58,
   "id": "d746a65e-6eaf-4385-a7d3-f04eb7e604e0",
   "metadata": {},
   "outputs": [],
   "source": [
    "convolution_weights = {}\n",
    "for layer in model.layers:\n",
    "    if 'conv' in layer.name:\n",
    "        weights = layer.get_weights()[0]\n",
    "        w_min, w_max = weights.min(), weights.max()\n",
    "        weights = (weights-w_min)/(w_max-w_min)\n",
    "        convolution_weights[layer.name] = weights"
   ]
  },
  {
   "cell_type": "code",
   "execution_count": 125,
   "id": "4b6acf57-6639-47cd-a292-d2901f310095",
   "metadata": {},
   "outputs": [
    {
     "name": "stdout",
     "output_type": "stream",
     "text": [
      "(2, 2, 3, 16) (2, 2, 16, 32) (2, 2, 32, 64) (2, 2, 64, 128)\n"
     ]
    },
    {
     "data": {
      "image/png": "[encoded data removed]",
      "text/plain": [
       "<Figure size 432x288 with 3 Axes>"
      ]
     },
     "metadata": {
      "needs_background": "light"
     },
     "output_type": "display_data"
    },
    {
     "data": {
      "image/png": "[encoded data removed]",
      "text/plain": [
       "<Figure size 432x288 with 3 Axes>"
      ]
     },
     "metadata": {
      "needs_background": "light"
     },
     "output_type": "display_data"
    },
    {
     "data": {
      "image/png": "[encoded data removed]",
      "text/plain": [
       "<Figure size 432x288 with 3 Axes>"
      ]
     },
     "metadata": {
      "needs_background": "light"
     },
     "output_type": "display_data"
    },
    {
     "data": {
      "image/png": "[encoded data removed]",
      "text/plain": [
       "<Figure size 432x288 with 3 Axes>"
      ]
     },
     "metadata": {
      "needs_background": "light"
     },
     "output_type": "display_data"
    }
   ],
   "source": [
    "conv1 = convolution_weights['conv2d']\n",
    "conv2 = convolution_weights['conv2d_1']\n",
    "conv3 = convolution_weights['conv2d_2']\n",
    "conv4 = convolution_weights['conv2d_3']\n",
    "convolutions = [conv1, conv2, conv3, conv4]\n",
    "print(conv1.shape, conv2.shape, conv3.shape, conv4.shape)\n",
    "\n",
    "for conv in convolutions:\n",
    "    for j in range(3):\n",
    "        ax = plt.subplot(1,3,j+1)\n",
    "        plt.imshow(conv[:,:,j,5],cmap='gray')\n",
    "    plt.show()"
   ]
  },
  {
   "cell_type": "markdown",
   "id": "947469fe-ab95-4c99-bb17-d700bc4c32b3",
   "metadata": {},
   "source": [
    "# Visualize some featuremaps"
   ]
  },
  {
   "cell_type": "code",
   "execution_count": 139,
   "id": "ec2e8290-bf1d-413c-9c11-d5b990496bce",
   "metadata": {},
   "outputs": [
    {
     "name": "stdout",
     "output_type": "stream",
     "text": [
      "0\n",
      "2\n",
      "4\n",
      "6\n"
     ]
    }
   ],
   "source": [
    "convolution_layers = []\n",
    "for ix, layer in enumerate(model.layers):\n",
    "    if 'conv' in layer.name:\n",
    "        convolution_layers.append(layer)\n",
    "        print(ix)\n"
   ]
  },
  {
   "cell_type": "code",
   "execution_count": 149,
   "id": "15ed0eaa-c7f7-4ce1-aa1d-7533949dbebd",
   "metadata": {},
   "outputs": [
    {
     "ename": "FileNotFoundError",
     "evalue": "[Errno 2] No such file or directory: 'C:/users/Patrick/Documents/python/fruits360/fruits360_dataset_32_100.jpg'",
     "output_type": "error",
     "traceback": [
      "\u001b[1;31m---------------------------------------------------------------------------\u001b[0m",
      "\u001b[1;31mFileNotFoundError\u001b[0m                         Traceback (most recent call last)",
      "\u001b[1;32m~\\AppData\\Local\\Temp/ipykernel_25700/445239741.py\u001b[0m in \u001b[0;36m<module>\u001b[1;34m\u001b[0m\n\u001b[0;32m      3\u001b[0m                           outputs=model.layers[0].output)\n\u001b[0;32m      4\u001b[0m \u001b[1;33m\u001b[0m\u001b[0m\n\u001b[1;32m----> 5\u001b[1;33m \u001b[0mimg\u001b[0m \u001b[1;33m=\u001b[0m \u001b[0mload_img\u001b[0m\u001b[1;33m(\u001b[0m\u001b[1;34mf'C:/users/Patrick/Documents/python/fruits360/fruits360_dataset_32_100.jpg'\u001b[0m\u001b[1;33m)\u001b[0m\u001b[1;33m\u001b[0m\u001b[1;33m\u001b[0m\u001b[0m\n\u001b[0m",
      "\u001b[1;32m~\\AppData\\Local\\Programs\\Python\\Python39\\lib\\site-packages\\keras\\preprocessing\\image.py\u001b[0m in \u001b[0;36mload_img\u001b[1;34m(path, grayscale, color_mode, target_size, interpolation)\u001b[0m\n\u001b[0;32m    311\u001b[0m       \u001b[0mValueError\u001b[0m\u001b[1;33m:\u001b[0m \u001b[1;32mif\u001b[0m \u001b[0minterpolation\u001b[0m \u001b[0mmethod\u001b[0m \u001b[1;32mis\u001b[0m \u001b[1;32mnot\u001b[0m \u001b[0msupported\u001b[0m\u001b[1;33m.\u001b[0m\u001b[1;33m\u001b[0m\u001b[1;33m\u001b[0m\u001b[0m\n\u001b[0;32m    312\u001b[0m   \"\"\"\n\u001b[1;32m--> 313\u001b[1;33m   return image.load_img(path, grayscale=grayscale, color_mode=color_mode,\n\u001b[0m\u001b[0;32m    314\u001b[0m                         target_size=target_size, interpolation=interpolation)\n\u001b[0;32m    315\u001b[0m \u001b[1;33m\u001b[0m\u001b[0m\n",
      "\u001b[1;32m~\\AppData\\Local\\Programs\\Python\\Python39\\lib\\site-packages\\keras_preprocessing\\image\\utils.py\u001b[0m in \u001b[0;36mload_img\u001b[1;34m(path, grayscale, color_mode, target_size, interpolation)\u001b[0m\n\u001b[0;32m    111\u001b[0m         raise ImportError('Could not import PIL.Image. '\n\u001b[0;32m    112\u001b[0m                           'The use of `load_img` requires PIL.')\n\u001b[1;32m--> 113\u001b[1;33m     \u001b[1;32mwith\u001b[0m \u001b[0mopen\u001b[0m\u001b[1;33m(\u001b[0m\u001b[0mpath\u001b[0m\u001b[1;33m,\u001b[0m \u001b[1;34m'rb'\u001b[0m\u001b[1;33m)\u001b[0m \u001b[1;32mas\u001b[0m \u001b[0mf\u001b[0m\u001b[1;33m:\u001b[0m\u001b[1;33m\u001b[0m\u001b[1;33m\u001b[0m\u001b[0m\n\u001b[0m\u001b[0;32m    114\u001b[0m         \u001b[0mimg\u001b[0m \u001b[1;33m=\u001b[0m \u001b[0mpil_image\u001b[0m\u001b[1;33m.\u001b[0m\u001b[0mopen\u001b[0m\u001b[1;33m(\u001b[0m\u001b[0mio\u001b[0m\u001b[1;33m.\u001b[0m\u001b[0mBytesIO\u001b[0m\u001b[1;33m(\u001b[0m\u001b[0mf\u001b[0m\u001b[1;33m.\u001b[0m\u001b[0mread\u001b[0m\u001b[1;33m(\u001b[0m\u001b[1;33m)\u001b[0m\u001b[1;33m)\u001b[0m\u001b[1;33m)\u001b[0m\u001b[1;33m\u001b[0m\u001b[1;33m\u001b[0m\u001b[0m\n\u001b[0;32m    115\u001b[0m         \u001b[1;32mif\u001b[0m \u001b[0mcolor_mode\u001b[0m \u001b[1;33m==\u001b[0m \u001b[1;34m'grayscale'\u001b[0m\u001b[1;33m:\u001b[0m\u001b[1;33m\u001b[0m\u001b[1;33m\u001b[0m\u001b[0m\n",
      "\u001b[1;31mFileNotFoundError\u001b[0m: [Errno 2] No such file or directory: 'C:/users/Patrick/Documents/python/fruits360/fruits360_dataset_32_100.jpg'"
     ]
    }
   ],
   "source": [
    "import os\n",
    "model_conv1 = keras.Model(inputs=model.inputs, \n",
    "                          outputs=model.layers[0].output)\n",
    "\n",
    "img = load_img(f'C:/users/Patrick/Documents/python/fruits360/fruits360_dataset_32_100.jpg')\n"
   ]
  }
 ],
 "metadata": {
  "kernelspec": {
   "display_name": "Python 3 (ipykernel)",
   "language": "python",
   "name": "python3"
  },
  "language_info": {
   "codemirror_mode": {
    "name": "ipython",
    "version": 3
   },
   "file_extension": ".py",
   "mimetype": "text/x-python",
   "name": "python",
   "nbconvert_exporter": "python",
   "pygments_lexer": "ipython3",
   "version": "3.9.6"
  }
 },
 "nbformat": 4,
 "nbformat_minor": 5
}
